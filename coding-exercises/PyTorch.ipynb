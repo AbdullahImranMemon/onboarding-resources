{
 "cells": [
  {
   "cell_type": "markdown",
   "id": "a2d1b74e-6798-4db6-8fcf-e90fd558fee3",
   "metadata": {},
   "source": [
    "# PyTorch & Neural Networks\n",
    "These exercises will be an introduction to Torch and neural networks. So far you should have at least a general idea of what neural networks are. What I now imagine the main question on your mind is how do I begin programming them? While there are many different Python libraries that can be used for the purpose, most of our work is done using PyTorch. PyTorch is a library which is used for machine learning and creating neural networks. This notebook is an exploration of not only how to build a basic neural network but what parts make up PyTorch. This can be spit into 3 main parts:\n",
    "- What is a Tensor, and how is it different from a Numpy array and a Pandas dataframe.\n",
    "- What is a dataloader, and how do we make one.\n",
    "- What is a neural network, and how do modules allow us to implement them.\n",
    "\n",
    "The reason we use PyTorch rather than its rival Tensorflow is that currently the academic community seem to prefer it. This means no matter what topic we are studying their is a large chance its code is written in Torch."
   ]
  },
  {
   "cell_type": "code",
   "execution_count": 1,
   "id": "98f197d2-fe3c-448d-8702-2f604fab0d11",
   "metadata": {},
   "outputs": [],
   "source": [
    "import numpy as np\n",
    "import torch\n",
    "import torch.nn as nn\n",
    "from torch.nn import Module\n",
    "import torch.optim as optim\n",
    "from torch.optim import Optimizer\n",
    "from torch.utils.data import Dataset, DataLoader, random_split\n",
    "from torch import Tensor\n",
    "from torchvision import datasets\n",
    "from torchvision.transforms import ToTensor\n",
    "import torchvision.transforms as transforms\n",
    "from typing import Tuple, List, Dict\n",
    "import matplotlib.pyplot as plt\n",
    "import time\n",
    "import pandas as pd\n",
    "from sklearn.preprocessing import LabelEncoder, OneHotEncoder\n",
    "type LossFN = Union[Module]"
   ]
  },
  {
   "cell_type": "markdown",
   "id": "51797708-78b9-4a4b-934f-e79fb4778d0d",
   "metadata": {},
   "source": [
    "## Numpy vs Pandas vs Torch\n",
    "Before we go into the more advanced exercises I wanted to first answer a question that comes up very often. Why are there so many different representations of a list. If you've ever programmed you have probably interacted with a list. A list allows us to store data as well as do vector and matrix operations. In Python this list is dynamically sized, meaning that we can expand it and shrink it with methods like `.append()` and `.remove()`. This permits a degree of flexibility however comes with the drawback that it is slower. This is a problem when we need to do hundreds of operations on lists, which is required within neural networks. So how do we solve this?\n",
    "\n",
    "### Numpy & Numpy Arrays\n",
    "Numpy arrays are a solution to this problem of lists being too slow. Numpy arrays are arrays rather than lists meaning they are one fixed sized. This is the first reason they are significantly more efficient. The second reason is that they are implemented in C rather than Python. C being a low-level language makes most of its operations much faster than Python. The last is parallelism, which is the ability of your computer to do multiple calculations at the same time. Numpy arrays are able to do operations on multiple elements within an array at the same time, resulting in an obvious speedup. The below code illustrates this point by running additions on a list of 100,000 numbers."
   ]
  },
  {
   "cell_type": "code",
   "execution_count": 2,
   "id": "3ea653e0-941a-4585-aa19-b17b8b781c04",
   "metadata": {},
   "outputs": [
    {
     "name": "stdout",
     "output_type": "stream",
     "text": [
      "Time for normal Python: 2.5891454219818115\n",
      "Time for Numpy: 0.004225254058837891\n"
     ]
    }
   ],
   "source": [
    "big_num = 100000\n",
    "\n",
    "# Python's turn\n",
    "start_time = time.time()\n",
    "py_arr = list(range(big_num))\n",
    "for _ in range(400):\n",
    "    for i in range(len(py_arr)):\n",
    "        py_arr[i] += py_arr[i]\n",
    "print(f\"Time for normal Python: {time.time() - start_time}\")\n",
    "\n",
    "# Numpy's turn\n",
    "start_time = time.time()\n",
    "np_arr = np.arange(big_num)\n",
    "for _ in range(400):\n",
    "        np_arr += np_arr # This is faster than using a seperate loop\n",
    "print(f\"Time for Numpy: {time.time() - start_time}\")"
   ]
  },
  {
   "cell_type": "markdown",
   "id": "420d63ee-233c-4eb6-9e1f-d5a8aeca8766",
   "metadata": {},
   "source": [
    "An interesting part of the above code is `np_arr += np_arr`. The reason this works is a lot of Numpy operations are considered *vectorised*. This is just a fancy word for meaning most operators such as +, -, /, and more are done element-wise. This means to optimise your code within Python a good approach is to leverage these Numpy operations to speed up array calculations.\n",
    "\n",
    "Despite this flexibility Numpy arrays do suffer from one main issue, all elements need to be the same type. This means no mixing integers with floats or floats with strings. So what happens if we're reading off of a spreadsheet with multiple forms of data, this is where we need Pandas.\n",
    "\n",
    "### Pandas & Pandas Dataframes\n",
    "Pandas dataframes while not used directly in neural networks provide us an easy way to read and manipulate data. Pandas uses their version of a list/matrix called a dataframe. A dataframe is pretty much just a table. It holds columns with names, and data which can include strings, floats, integers, or even complex objects like dates. This makes them key when dealing with most forms of data.\n",
    "\n",
    "Interestingly despite having multiple different types dataframes aren't as slow as one may think as they are built on top of Numpy arrays. This makes Pandas, while not as fast as numpy, still faster than regular Python.\n",
    "\n",
    "### Torch Tensors\n",
    "While Numpy arrays are amazing for general mathematical and scientific calulations they aren't quite as fast as we'd actually like for neural networks, especially when it comes to backpropagation and optimisation. Therefore, PyTorch has their own array implementation called tensors that are optimised for neural networks. These can easily be converted between formats as shown below."
   ]
  },
  {
   "cell_type": "code",
   "execution_count": 3,
   "id": "3fc7fee8-ad64-4eab-97b1-0789e29d1787",
   "metadata": {},
   "outputs": [
    {
     "name": "stdout",
     "output_type": "stream",
     "text": [
      "Tensor: tensor([1, 2, 3, 4])\n",
      "With Shape: torch.Size([4])\n"
     ]
    }
   ],
   "source": [
    "# Converting NDArray -> Tensor\n",
    "x = np.array([1, 2, 3, 4])\n",
    "x_tensor = torch.tensor(x)\n",
    "\n",
    "# Converting List -> Tensor\n",
    "z = [4, 3, 2, 1]\n",
    "z_tensor = torch.tensor(z)\n",
    "\n",
    "# Similar to numpy shape data can be found here as well\n",
    "print(f\"Tensor: {x_tensor}\\nWith Shape: {x_tensor.shape}\")"
   ]
  },
  {
   "cell_type": "markdown",
   "id": "a72895c3-5fce-4f62-9038-db9d64c81ba4",
   "metadata": {},
   "source": [
    "The killer feature of Tensors that makes them different from Numpy's arrays is the ability to set the device its calculations will be done on. To undestand why this is important we first must discuss the purpose of a GPU.\n",
    "\n",
    "Every computer uses a central processing unit CPU to calculate values and run code. This device is able to do millions of computations every second making operations such as most of the code in this notebook possible however it suffers from 2 big flaws when it comes to computing neural networks. The first is that the CPU is busy running lots of different things to keep your computer working for you. The next is that it is limited by the amount of processing units it has. This low amount makes it slow at doing vector operations such as those found within neural networks. So rather than using a CPU  we can use a device dedicated to doing very small fast vector operations. In comes the graphics processing unit GPU. Invented in 1999 the GPU was first used to improve how fast graphics on a computer were rendered. This is as the rendering of graphics such as those found within computer games requires many vector projection operations. Rather than having dozens of processing units that are really powerful, a GPU has thousands of really weak processing units. These differences make it much more efficient for us to use a GPU rather than our CPU to train neural networks.\n",
    "\n",
    "The below code can be used to find what device you can do your calculations on. This can either be your GPU (called CUDA), MPS (for apple computers), or your CPU. This is then followed with an example of putting a tensor onto the device."
   ]
  },
  {
   "cell_type": "code",
   "execution_count": 4,
   "id": "6bc09745-bfb9-4c2d-bab9-ca1725ec3bc9",
   "metadata": {},
   "outputs": [
    {
     "name": "stdout",
     "output_type": "stream",
     "text": [
      "Using CPU\n"
     ]
    },
    {
     "data": {
      "text/plain": [
       "tensor([1, 2, 3, 4])"
      ]
     },
     "execution_count": 4,
     "metadata": {},
     "output_type": "execute_result"
    }
   ],
   "source": [
    "# Find device being used\n",
    "device = (\n",
    "    \"cuda\" # For NVIDIA GPUs\n",
    "    if torch.cuda.is_available()\n",
    "    else \"mps\" # For Apple devies\n",
    "    if torch.backends.mps.is_available()\n",
    "    else \"cpu\"\n",
    ")\n",
    "print(f\"Using {device.upper()}\")\n",
    "\n",
    "# Place tensor on device\n",
    "x_tensor.to(device)"
   ]
  },
  {
   "cell_type": "markdown",
   "id": "a410098f-2cca-4f8a-be7e-9d0a406bdb65",
   "metadata": {},
   "source": [
    "## Dataset & Dataloader\n",
    "The next part of Tensor flow is the Dataset and Dataloader. From what we have already discussed we know a dataset is a collection of data that can be used to train a ML model. The last question sheet saw us iterating through this data as to find a line of best fit. While this solution works, PyTorch provides a way to do this that is a little nicer. Enter PyTorch's `Dataset` abstract base class. \n",
    "\n",
    "A `Dataset` in PyTorch is a class which is can be used to easily iterate through data, it just requires 3 methods to be implemented:\n",
    "- `__init__`, which initialises the dataset usually by loading the data.\n",
    "- `__len__`, which gets the total length of the dataset.\n",
    "- `__getitem__`, which gets a bit of data from the dataset, returning it, usually as a tensor.\n",
    "\n",
    "To give you an idea of what one looks like below is an example for a basic dataset:"
   ]
  },
  {
   "cell_type": "code",
   "execution_count": 5,
   "id": "d09d0e6f-c686-4f4a-b1d4-f5d82e80581a",
   "metadata": {},
   "outputs": [
    {
     "name": "stdout",
     "output_type": "stream",
     "text": [
      "Batch 1\n",
      "Inputs: tensor([[1., 0.]])\n",
      "Labels: tensor([[1.]])\n",
      "Batch 2\n",
      "Inputs: tensor([[0., 1.]])\n",
      "Labels: tensor([[1.]])\n",
      "Batch 3\n",
      "Inputs: tensor([[1., 1.]])\n",
      "Labels: tensor([[0.]])\n",
      "Batch 4\n",
      "Inputs: tensor([[0., 0.]])\n",
      "Labels: tensor([[0.]])\n"
     ]
    }
   ],
   "source": [
    "# This a is common toy example within neural networks\n",
    "# In this dictionary the key (bool, bool) is the data,\n",
    "# and the item bool is the label. (False, False) has label False, etc.\n",
    "xor_data = {(False, False): False, (False, True): True, (True, False): True, (True, True): False}\n",
    "\n",
    "class XORDataset(Dataset):\n",
    "    def __init__(self, data):\n",
    "        \"\"\"Initiliase the XOR problem's dataset\"\"\"\n",
    "        # Note normally you would start by reading a csv file\n",
    "        # or getting the locations of pictures.\n",
    "        # Do some modifications to turn it into a tensor\n",
    "        inputs = [list(k) for k in data.keys()]\n",
    "        labels = [v for v in data.values()]\n",
    "\n",
    "        # Save these tensors so that we can use them later\n",
    "        # variable names don't matter, just make them clear\n",
    "        self.input = torch.tensor(inputs, dtype=torch.float32)\n",
    "        self.label = torch.tensor(labels, dtype=torch.float32).view(-1, 1)\n",
    "\n",
    "    def __len__(self) -> int:\n",
    "        \"\"\"Get length of our dataset\"\"\"\n",
    "        # Simply return length of our data\n",
    "        return len(self.input)\n",
    "\n",
    "    def __getitem__(self, idx: int) -> Tuple[Tensor, Tensor]:\n",
    "        \"\"\"Get an item from idx\"\"\"\n",
    "        x = self.input[idx] # get data from inputs\n",
    "        y = self.label[idx] # get data from label\n",
    "        return x, y # return them as a tuple so we can unpack\n",
    "\n",
    "xor_dataset = XORDataset(xor_data)\n",
    "xor_dataloader = DataLoader(xor_dataset, batch_size=1, shuffle=True)\n",
    "\n",
    "# Print dataset\n",
    "for batch_idx, (x, y) in enumerate(xor_dataloader):\n",
    "    print(f\"Batch {batch_idx + 1}\\nInputs: {x}\\nLabels: {y}\")"
   ]
  },
  {
   "cell_type": "markdown",
   "id": "b5ddd2e0-ce5d-42d2-bc74-63928e7a4e49",
   "metadata": {},
   "source": [
    "Once you have created a dataset you can now wrap it in PyTorch's `Dataloader`. A dataloader allows you to iterate easily through a dataset while also giving you the ability to change how it gives you data. In the code above we simply wrap the dataset in it and give it a batch_size and set it to shuffle. \n",
    "- `batch_size` allows you to load multiple inputs and labels at the same time. This can speed up training time as it allows you to do more calculations at once. Keep this in mind when creating models.\n",
    "- `shuffle` randomises the order of the dataset, this should be done as it mitigates overfitting.\n",
    "\n",
    "Once we've done this we are ready to train our model. It should output a tensor representing our input, and its associated label. "
   ]
  },
  {
   "cell_type": "markdown",
   "id": "40eac340-0fec-40c1-bfee-bbc03bddd9a3",
   "metadata": {},
   "source": [
    "### **(Question 1)** Create a dataset for insurance\n",
    "Last lesson we created a basic machine learning model from the insurance dataset. This dataset attempts to predict the cost of health-care given a few details. We want to wrap the dataset in PyTorch's dataset. An important part is to make sure that it returns items as tensors. Below is a reminder of some code we used last workshop which may help. This uses numpy so be sure to translate this code into tensors?\n",
    "```python\n",
    "data = pd.read_csv('data/insurance.csv')\n",
    "x = data[\"age\"].to_numpy()\n",
    "y = data[\"charges\"].to_numpy()\n",
    "```\n",
    "\n",
    "**Create a basic dataset for insurance that takes as input a path during initialisation and outputs a tensor representing the age of an individual. This should then be turned into a DataLoader for the dataset**."
   ]
  },
  {
   "cell_type": "code",
   "execution_count": 21,
   "id": "74a08dda-f858-4237-8f1e-559fafb5598a",
   "metadata": {},
   "outputs": [],
   "source": [
    "class InsuranceDataset(Dataset):\n",
    "    def __init__(self, path: str):\n",
    "        \"\"\"Read the dataset and get the input as a tensor\"\"\"\n",
    "        pass\n",
    "\n",
    "    def __len__(self) -> int:\n",
    "        \"\"\"Get the amount of insurance entries\"\"\"\n",
    "        pass\n",
    "\n",
    "    def __getitem__(self, idx: int) -> Tuple[Tensor, Tensor]:\n",
    "        \"\"\"Get an item representing the \"\"\"\n",
    "        pass\n",
    "        \n",
    "path = \"data/insurance.csv\"\n",
    "insurance_data = None # Fill in this to create the dataset\n",
    "insurance_loader = None # Fill in this to turn the dataset to a DataLoader"
   ]
  },
  {
   "cell_type": "code",
   "execution_count": 7,
   "id": "74380dd9-8642-4e6b-90c8-303083102078",
   "metadata": {},
   "outputs": [
    {
     "name": "stdout",
     "output_type": "stream",
     "text": [
      "Inputs: tensor([[28.0000,  0.0000, 23.8000,  2.0000,  0.0000]])\n",
      "Result: tensor([3847.6741])\n"
     ]
    }
   ],
   "source": [
    "for batch_idx, (x, y) in enumerate(insurance_loader):\n",
    "    print(f\"Inputs: {x}\\nResult: {y}\") # Print first results\n",
    "    break # Don't worry if not exactly the same"
   ]
  },
  {
   "cell_type": "markdown",
   "id": "ff88e10a-f7ef-4535-9935-4c89c9cd3a33",
   "metadata": {},
   "source": [
    "### **(Question 2)** Expand the dataloader\n",
    "Before we move on lets expand our model further. Currently we are only considering age but with tensors we can consider a list of inputs rather than one. This means that we can easily expand our input to have more features, which will improve our model when we decide to train it.\n",
    "\n",
    "**Expand your dataloader to include bmi and amount of children**. When you run the above code it should output a tensor with three values as the input."
   ]
  },
  {
   "cell_type": "code",
   "execution_count": 8,
   "id": "2b5ce676-3c97-42d8-b4e2-2ced6df301d7",
   "metadata": {},
   "outputs": [
    {
     "data": {
      "text/html": [
       "<div>\n",
       "<style scoped>\n",
       "    .dataframe tbody tr th:only-of-type {\n",
       "        vertical-align: middle;\n",
       "    }\n",
       "\n",
       "    .dataframe tbody tr th {\n",
       "        vertical-align: top;\n",
       "    }\n",
       "\n",
       "    .dataframe thead th {\n",
       "        text-align: right;\n",
       "    }\n",
       "</style>\n",
       "<table border=\"1\" class=\"dataframe\">\n",
       "  <thead>\n",
       "    <tr style=\"text-align: right;\">\n",
       "      <th></th>\n",
       "      <th>age</th>\n",
       "      <th>sex</th>\n",
       "      <th>bmi</th>\n",
       "      <th>children</th>\n",
       "      <th>smoker</th>\n",
       "      <th>region</th>\n",
       "      <th>charges</th>\n",
       "    </tr>\n",
       "  </thead>\n",
       "  <tbody>\n",
       "    <tr>\n",
       "      <th>0</th>\n",
       "      <td>19</td>\n",
       "      <td>female</td>\n",
       "      <td>27.900</td>\n",
       "      <td>0</td>\n",
       "      <td>yes</td>\n",
       "      <td>southwest</td>\n",
       "      <td>16884.92400</td>\n",
       "    </tr>\n",
       "    <tr>\n",
       "      <th>1</th>\n",
       "      <td>18</td>\n",
       "      <td>male</td>\n",
       "      <td>33.770</td>\n",
       "      <td>1</td>\n",
       "      <td>no</td>\n",
       "      <td>southeast</td>\n",
       "      <td>1725.55230</td>\n",
       "    </tr>\n",
       "    <tr>\n",
       "      <th>2</th>\n",
       "      <td>28</td>\n",
       "      <td>male</td>\n",
       "      <td>33.000</td>\n",
       "      <td>3</td>\n",
       "      <td>no</td>\n",
       "      <td>southeast</td>\n",
       "      <td>4449.46200</td>\n",
       "    </tr>\n",
       "    <tr>\n",
       "      <th>3</th>\n",
       "      <td>33</td>\n",
       "      <td>male</td>\n",
       "      <td>22.705</td>\n",
       "      <td>0</td>\n",
       "      <td>no</td>\n",
       "      <td>northwest</td>\n",
       "      <td>21984.47061</td>\n",
       "    </tr>\n",
       "    <tr>\n",
       "      <th>4</th>\n",
       "      <td>32</td>\n",
       "      <td>male</td>\n",
       "      <td>28.880</td>\n",
       "      <td>0</td>\n",
       "      <td>no</td>\n",
       "      <td>northwest</td>\n",
       "      <td>3866.85520</td>\n",
       "    </tr>\n",
       "  </tbody>\n",
       "</table>\n",
       "</div>"
      ],
      "text/plain": [
       "   age     sex     bmi  children smoker     region      charges\n",
       "0   19  female  27.900         0    yes  southwest  16884.92400\n",
       "1   18    male  33.770         1     no  southeast   1725.55230\n",
       "2   28    male  33.000         3     no  southeast   4449.46200\n",
       "3   33    male  22.705         0     no  northwest  21984.47061\n",
       "4   32    male  28.880         0     no  northwest   3866.85520"
      ]
     },
     "execution_count": 8,
     "metadata": {},
     "output_type": "execute_result"
    }
   ],
   "source": [
    "# Just to remind you of the data we are looking at\n",
    "pd.read_csv('data/insurance.csv').head()"
   ]
  },
  {
   "cell_type": "code",
   "execution_count": 9,
   "id": "7c4d91c2-d3c4-45fb-af7e-56e6169da523",
   "metadata": {},
   "outputs": [],
   "source": [
    "d = len(next(iter(insurance_loader))[0][0])\n",
    "if d % 3 != 0 and d % 5 != 0:\n",
    "    print(\"Unsucessfully added bmi and children\")"
   ]
  },
  {
   "cell_type": "markdown",
   "id": "a08a861a-08c7-48bc-b5f3-b29fbf132ea5",
   "metadata": {},
   "source": [
    "### **(Question 3)** Encoding data in the dataloader\n",
    "Now that we are considering more inputs our model should improve. Despite this we are missing whether they are a smoker and their gender. If we were to just put them into the tensor we would run into an issue though, the data needs to be a float, which both fields aren't as they are strings (called object by Pandas). To fix this we need to encode the data into a format we can use. This can be done through two main approaches:\n",
    "- Label encoding, where every category is encoded as an integer. This can be done automatically or done by using a relevant number, such as the amount of appearences. For example a smoker could be classified as `1` while a non-smoker could be classified as `0`\n",
    "- On hot encoding, where each category is represented as $n$ Boolean columns, where $n$ is the amount of categories. Below is an example with `RainToday`.\n",
    "\n",
    "| ID | Smoker |\n",
    "| ---- | ----- |\n",
    "| 0 | Yes |\n",
    "| 1 | No |\n",
    "\n",
    "| ID | Yes | No |\n",
    "| --- | ---- | ----- |\n",
    "| 0 | 1 | 0 |\n",
    "| 1 | 0 | 1 |\n",
    "\n",
    "**Expand your dataset to have smoker and sex as a part of the tensor by encoding them as floats**.\n",
    "<details>\n",
    "  <summary>Hint</summary>\n",
    "    Some functions which may be useful depending on the approach used are:\n",
    "    <ul>\n",
    "        <li><code>pd.get_dummies</code></li>\n",
    "        <li><code>dataset[...].map({})</code></li>\n",
    "        <li><code>OneHotEncoder</code> from sklearn</li>\n",
    "        <li><code>LabelEncoder</code> from sklearn</li>\n",
    "    </ul>\n",
    "</details>"
   ]
  },
  {
   "cell_type": "code",
   "execution_count": 10,
   "id": "b5f7182c-d540-42e0-8160-b3be01bd3b4f",
   "metadata": {},
   "outputs": [],
   "source": [
    "d = len(next(iter(insurance_loader))[0][0])\n",
    "if d % 5 and d % 6 :\n",
    "    print(\"Unsucessfully added smoker and sex\")"
   ]
  },
  {
   "cell_type": "markdown",
   "id": "b87a21ce-d034-4229-a559-8782ed8de8c8",
   "metadata": {},
   "source": [
    "### **(Question 4)** Split the Dataset\n",
    "Currently the dataset only consists of one main dataset which iterates through all entries. This causes problems however as after we train the model and give it new data it may be predicting what our data says rather than predicting it from the trends. To avoid this we usually split the dataset into 2 halves, the training set and the testing set.\n",
    "- Training set, consists of most of the data usually 75% and above, and is used to train our ML model.\n",
    "- Testing set, consists of the rest of the data, and is used to test our dataset at increments to make sure it still accurately predicts cases where it encounters new data.\n",
    "\n",
    "By splitting the dataset we are able to reduce overfitting and see how our accurate our model is. So before we go about training we first need to go about splitting it. This is done by first calculating the training sizes and test sizes. Before then using `random_split` to split the data. After we have done this we can create new dataloaders for both training and testing data.\n",
    "\n",
    "**Split the dataset as to create a new training and testing dataloader, where training consists of 80% of the data**. Do it once again in the above code."
   ]
  },
  {
   "cell_type": "markdown",
   "id": "7799cfb8-a553-46a5-9fd3-aeff82a19d3f",
   "metadata": {},
   "source": [
    "## Neural Networks\n",
    "### XOR Problem\n",
    "The XOR problem is a toy problem where our goal is to learn XOR. But first what is XOR? Exclusive Or (XOR) in programming is a logic gate found within many computers. In Python we can call it with `^`, for example `0 ^ 1` will be `1` in Python. For the purposes of this task it is just a function (or rule) that we want to be able to find with our neural network. Below is a truth table for XOR, this will be our dataset.\n",
    "\n",
    "| X | Y | X^Y |\n",
    "| - | - | --- |\n",
    "| 0 | 0 |  0  |\n",
    "| 0 | 1 |  1  |\n",
    "| 1 | 0 |  1  |\n",
    "| 1 | 1 |  0  |\n",
    "\n",
    "If you remember before we actually turned this into a dataset called `XORDataset`. As we have already done this we can move onto the next step, training our model. But first what is a module in PyTorch?\n",
    "\n",
    "### Modules\n",
    "PyTorch represents all neural networks with the `Module` abstract base class. This class requires two functions to be implemented.\n",
    "- `__init__` which stores the layers of the network and its activation functions.\n",
    "- `forward` which takes the input tensor and does the forward pass by running its layers and associated activation functions as to turn the input tensor into a prediction. Each layer is required to start and end with the same amount of neurons as the last.\n",
    "\n",
    "Below is an example network for our problem. "
   ]
  },
  {
   "cell_type": "code",
   "execution_count": 11,
   "id": "79cf7b25-311f-4ec2-84e7-2f788efb4f81",
   "metadata": {},
   "outputs": [],
   "source": [
    "# Define a simple feedforward neural network\n",
    "class XORNetwork(Module):\n",
    "    def __init__(self):\n",
    "        \"\"\"Use this to store layers and activation functions\"\"\"\n",
    "        super().__init__() # This is required\n",
    "        # Layers\n",
    "        self.hidden = nn.Linear(2, 2) # Takes two inputs returns two\n",
    "        self.output = nn.Linear(2, 1) # Takes two as layer above is the same.\n",
    "        # Activation Function\n",
    "        self.sigmoid = nn.Sigmoid()\n",
    "    \n",
    "    def forward(self, x: Tensor) -> Tensor:\n",
    "        \"\"\"Run the forward pass with this data\"\"\"\n",
    "        # Forward pass: input -> hidden layer -> sigmoid -> output layer -> sigmoid\n",
    "        x = self.sigmoid(self.hidden(x))\n",
    "        x = self.sigmoid(self.output(x))\n",
    "        return x"
   ]
  },
  {
   "cell_type": "markdown",
   "id": "8909ba06-5442-4bcb-9a9d-f49ec97af261",
   "metadata": {},
   "source": [
    "What makes this interesting is that we can just as easily reuse this module in the future by simply putting it in our network. For example below we expand our network by adding an extra layer. This ability to compose networks in this way allows use to improve architectures made by others. It also means that `Linear`, and `Sigmoid` are also both modules that can be used."
   ]
  },
  {
   "cell_type": "code",
   "execution_count": 12,
   "id": "698af6ae-4d32-486c-b0b8-db612ba6aedd",
   "metadata": {},
   "outputs": [],
   "source": [
    "class BigXORNetwork(Module):\n",
    "    def __init__(self):\n",
    "        \"\"\"Use this to store layers and activation functions\"\"\"\n",
    "        super().__init__() # This is required\n",
    "        self.hidden = nn.Linear(2, 2)\n",
    "        self.output = XORNetwork()\n",
    "        # Activation Function\n",
    "        self.sigmoid = nn.Sigmoid()\n",
    "    \n",
    "    def forward(self, x: Tensor) -> Tensor:\n",
    "        \"\"\"Run the forward pass with this data\"\"\"\n",
    "        # Forward pass: input -> hidden layer -> hidden layer -> sigmoid -> output layer -> sigmoid\n",
    "        x = self.sigmoid(self.hidden(x))\n",
    "        x = self.output(x)\n",
    "        return x"
   ]
  },
  {
   "cell_type": "markdown",
   "id": "69f42bab-1de4-4500-82e1-14f6d8379c2d",
   "metadata": {},
   "source": [
    "### Training & Testing\n",
    "Once we have created our model we can start to train it and testing it. Before we start this process there are 3 things that need to be done, first create our model by calling its class, then define a loss function. Think back to linear regression at any given point we first need to calculate how well we are doing at any given step. This starts with our loss function. The last step is defining our optimiser. This is once again similar to linear regression, but rather than creating our own version we can use PyTorch's. Once we have done these three things we can continue.\n",
    "\n",
    "The training stage follows the steps:\n",
    "1. Set model to `model.train()`, this ensures any changes to the weights and biases are done.\n",
    "2. Iterate through batches within the data loader.\n",
    "3. Assign the iterated values to a device `X, y = X.to(device), y.to(device)`. This is important if we want our model to train fast.\n",
    "4. Compute the predicted error (*forward pass*). This is done by running the model `model(X)`, before calculating the loss. Think linear regression.\n",
    "5. Run backpropogation (*back pass*). This is done by calculating the gradients for each neuron. Once we have these gradients we can change the weights and biases by stepping the optimiser. After this we ensure all gradients are set to zero for the next iteration.\n",
    "6. Optionally print the loss.\n",
    "\n",
    "Below is an example of this on our XOR problem."
   ]
  },
  {
   "cell_type": "code",
   "execution_count": 13,
   "id": "9427f732-e4e8-4504-b360-9240faaaf579",
   "metadata": {},
   "outputs": [
    {
     "name": "stdout",
     "output_type": "stream",
     "text": [
      "Epoch 1000/10000, Loss: 0.711939811706543\n",
      "Epoch 2000/10000, Loss: 0.7355634570121765\n",
      "Epoch 3000/10000, Loss: 1.085893154144287\n",
      "Epoch 4000/10000, Loss: 0.0374777726829052\n",
      "Epoch 5000/10000, Loss: 0.022829413414001465\n",
      "Epoch 6000/10000, Loss: 0.008630456402897835\n",
      "Epoch 7000/10000, Loss: 0.00952976755797863\n",
      "Epoch 8000/10000, Loss: 0.007342242635786533\n",
      "Epoch 9000/10000, Loss: 0.0036172533873468637\n",
      "Epoch 10000/10000, Loss: 0.0030730527359992266\n",
      "\n",
      "Given input: 0, 0\n",
      "Result: 0.003065339755266905\n"
     ]
    }
   ],
   "source": [
    "# Create network\n",
    "model = XORNetwork().to(device)\n",
    "\n",
    "# Define the loss function and the optimizer\n",
    "loss_fn = nn.BCELoss()  # Binary Cross Entropy Loss\n",
    "optimiser = optim.SGD(model.parameters(), lr=0.1)\n",
    "\n",
    "# Training loop\n",
    "epochs = 10000\n",
    "model.train()\n",
    "for epoch in range(epochs):\n",
    "\n",
    "    for X, y in xor_dataloader:\n",
    "        # Forward pass\n",
    "        y_pred = model(X)\n",
    "        \n",
    "        # Compute the loss\n",
    "        loss = loss_fn(y_pred, y)\n",
    "        \n",
    "        # Backward pass and optimization\n",
    "        loss.backward() # Calculate gradients\n",
    "        optimiser.step() # Change weights and biases as a result of gradients\n",
    "        optimiser.zero_grad() # Set gradients to zero\n",
    "        \n",
    "    # Print loss every 1000 epochs\n",
    "    if (epoch+1) % 1000 == 0:\n",
    "        print(f'Epoch {epoch+1}/{epochs}, Loss: {loss.item()}')\n",
    "\n",
    "# Test the model, this is usually done multiple times\n",
    "model.eval()\n",
    "with torch.no_grad():  # No need to track gradients for testing\n",
    "    inputs = torch.tensor([0.0, 0.0])\n",
    "    test_output = model(inputs)\n",
    "    print(f\"\\nGiven input: 0, 0\\nResult: {test_output[0]}\")"
   ]
  },
  {
   "cell_type": "markdown",
   "id": "ae1cbe17-e0e7-45fa-8b87-5bbbdcc53e7a",
   "metadata": {},
   "source": [
    "## Convolutional Neural Networks\n",
    "Now that we have a basic idea of how a neural network works we can expand these concepts to CNNs by letting you do a basic example. \n",
    "\n",
    "### Hand-Writing Recognition\n",
    "Hand-writing recognition is a classic problem neural network that involves recognising numbers from people's hand-writing. For example if we see a drawn 6 we want our model to output a 6. In fact this problem is so common we can save some time by downloading the dataset from Torch. Looking at the call below we see this is fairly similar to calling our own dataset."
   ]
  },
  {
   "cell_type": "code",
   "execution_count": 14,
   "id": "6a901539-2830-42eb-ab18-38318bd8798c",
   "metadata": {},
   "outputs": [
    {
     "data": {
      "image/png": "[encoded data removed]",
      "text/plain": [
       "<Figure size 800x800 with 9 Axes>"
      ]
     },
     "metadata": {},
     "output_type": "display_data"
    }
   ],
   "source": [
    "# Remember this place for later\n",
    "preprocessing = transforms.ToTensor()\n",
    "\n",
    "# Download training data from torch\n",
    "training_data = datasets.QMNIST(\n",
    "    root=\"data\",\n",
    "    train=True,\n",
    "    download=True,\n",
    "    transform=preprocessing,\n",
    ")\n",
    "\n",
    "# Download test data from torch\n",
    "test_data = datasets.QMNIST(\n",
    "    root=\"data\",\n",
    "    train=False,\n",
    "    download=True,\n",
    "    transform=ToTensor(),\n",
    ")\n",
    "\n",
    "# Create dataloaders\n",
    "batch_size = 64\n",
    "train_dataloader = DataLoader(training_data, batch_size=batch_size)\n",
    "test_dataloader = DataLoader(test_data, batch_size=batch_size)\n",
    "\n",
    "# Display the data\n",
    "figure = plt.figure(figsize=(8, 8))\n",
    "cols, rows = 3, 3\n",
    "for i in range(1, cols * rows + 1):\n",
    "    sample_idx = torch.randint(len(training_data), size=(1,)).item()\n",
    "    img, label = training_data[sample_idx]\n",
    "    figure.add_subplot(rows, cols, i)\n",
    "    plt.title(label)\n",
    "    plt.axis(\"off\")\n",
    "    plt.imshow(img.squeeze(), cmap=\"gray\")\n",
    "plt.show()"
   ]
  },
  {
   "cell_type": "markdown",
   "id": "f890bcbf-9ea4-4ad0-aadf-f1feb3547711",
   "metadata": {},
   "source": [
    "### **(Question 5)** Model\n",
    "Now that we have seen our data our first goal is to make a basic neural network for our dataset. This involves creating a module like before. An important part to keep in mind is that we can't accept this data in its 2d form. As such our first step is to `flatten` the data. Once this is done we can move onto building out our layers and activation functions.\n",
    "\n",
    "**Build a basic neural network**. Focus on it working at first, we can improve this later."
   ]
  },
  {
   "cell_type": "code",
   "execution_count": 15,
   "id": "4cbe2053-1012-4dfb-a851-a3496ed79cc8",
   "metadata": {},
   "outputs": [],
   "source": [
    "class QMNISTNet(Module):\n",
    "    def __init__(self):\n",
    "        \"\"\"Layers for our handwritting model\"\"\"\n",
    "        super().__init__()\n",
    "        pass\n",
    "\n",
    "    def forward(self, x: Tensor) -> Tensor:\n",
    "        \"\"\"Give handwritting prediction\"\"\"\n",
    "        pass"
   ]
  },
  {
   "cell_type": "markdown",
   "id": "829aac50-5296-4a36-a7b5-3a04e1086491",
   "metadata": {},
   "source": [
    "### **(Question 6)** Training\n",
    "From our previous example we saw how you would go about training and testing a model. Our first order of business is to make it less messy. A nice way of doing this is by declaring seperate function for `train` and `test`. This will allow us to take parameters such as the dataloader, model, loss function, and optimiser as arguments which can be useful if we want to test multiple different things. Similar to last time you need to iterate through your data, forward pass, and back pass. Look at the previous example if you need some help.\n",
    "\n",
    "**Create a function that takes in a dataloder, a model, a loss function, an optimiser, and trains the network**. This function will be called every epoch so don't worry about making a loop for the amount of epochs here. "
   ]
  },
  {
   "cell_type": "code",
   "execution_count": 16,
   "id": "ed934eca-a634-4c8f-a1c2-738addcbd068",
   "metadata": {},
   "outputs": [],
   "source": [
    "def train(dataloader: DataLoader, model: Module, loss_fn: LossFN, optimiser: Optimizer):\n",
    "    \"\"\"Train the model using the training set\"\"\"\n",
    "    pass"
   ]
  },
  {
   "cell_type": "markdown",
   "id": "997e9520-8566-49c9-9fed-b030df7ea9d2",
   "metadata": {},
   "source": [
    "### **(Question 7)** Testing\n",
    "Once we have finished running training we can now test the model against our testing dataset. This will provide us with a look into its current loss and accuracy. This will be more different to our previous example as we now want to calculate both the loss and accuracy after running the test function. This will be done similar to training however rather than backpropagating we store our loss and accuracy, allowing us to print them at the end of the epoch.\n",
    "\n",
    "**Create a test function that computes the loss and accuracy for data in the test dataloader**. Make sure to divide the loss and accuracy at the end. To predict our accuracy you can calculate from a prediction `pred`, and a label `y` the result to be:\n",
    "```python\n",
    "res = pred.argmax(dim=1, keepdim=True)\n",
    "acc += res.eq(y.view_as(res)).sum().item()\n",
    "```"
   ]
  },
  {
   "cell_type": "code",
   "execution_count": 17,
   "id": "2880b4f3-75e3-4097-811e-e55b9d2cabdf",
   "metadata": {},
   "outputs": [],
   "source": [
    "def test(dataloader: DataLoader, model: Module, loss_fn: LossFN):\n",
    "    \"\"\"Test the model to see how it compares against the test portion of the dataset\"\"\"\n",
    "    n = len(dataloader.dataset)\n",
    "    n_batch = len(dataloader)\n",
    "    loss = 0\n",
    "    acc = 0\n",
    "    # Fill this in, what do we want to do next? Perhaps iterate through data\n",
    "    # to calculate accuracy?\n",
    "    loss /= n_batch\n",
    "    acc /= n\n",
    "    print(f\"Accuracy: {(acc):>0.1f}%, Avg loss: {loss:>8f}\")"
   ]
  },
  {
   "cell_type": "markdown",
   "id": "fe40b09f-88de-4664-9a9e-1d6e821bb60f",
   "metadata": {},
   "source": [
    "### **(Question 8)** Loss & Optimiser\n",
    "The final step before we can run our model is choosing a loss function and optimiser. For now you can just enter the previously used ones, however be sure to change these later to see how the accuracy changes given these variables.\n",
    "\n",
    "**Choose a loss function and optimiser**."
   ]
  },
  {
   "cell_type": "code",
   "execution_count": 18,
   "id": "32cdfe2e-e874-4242-94ad-60452e7ef546",
   "metadata": {},
   "outputs": [],
   "source": [
    "model = QMNISTNet()\n",
    "loss_fn = None # Fill this in\n",
    "optimiser = None # Fill this in"
   ]
  },
  {
   "cell_type": "markdown",
   "id": "65158471-b6ec-44db-85c0-1e32d32d6ada",
   "metadata": {},
   "source": [
    "### Results\n",
    "Given that you have done the previous steps correctly you should be able to run the below code as to train the model for yourself. This code runs 10 epochs before finishing. If you are willing to spend more time training be sure to modify the amount of epochs. Don't expect this to be super accurate on the first try as we are still learning."
   ]
  },
  {
   "cell_type": "code",
   "execution_count": 19,
   "id": "691862a0-efea-436c-947a-e34fac220bea",
   "metadata": {},
   "outputs": [
    {
     "name": "stdout",
     "output_type": "stream",
     "text": [
      "Epoch 1/10: Accuracy: 0.4%, Avg loss: 2.260161\n",
      "Epoch 2/10: Accuracy: 0.5%, Avg loss: 2.204112\n",
      "Epoch 3/10: Accuracy: 0.6%, Avg loss: 2.111032\n",
      "Epoch 4/10: Accuracy: 0.6%, Avg loss: 1.950027\n",
      "Epoch 5/10: Accuracy: 0.7%, Avg loss: 1.697428\n",
      "Epoch 6/10: Accuracy: 0.7%, Avg loss: 1.384210\n",
      "Epoch 7/10: Accuracy: 0.8%, Avg loss: 1.106342\n",
      "Epoch 8/10: Accuracy: 0.8%, Avg loss: 0.912434\n",
      "Epoch 9/10: Accuracy: 0.8%, Avg loss: 0.783257\n",
      "Epoch 10/10: Accuracy: 0.8%, Avg loss: 0.693901\n",
      "Done!\n"
     ]
    }
   ],
   "source": [
    "epochs = 10\n",
    "for t in range(epochs):\n",
    "    print(f\"Epoch {t+1}/{epochs}: \", end=\"\")\n",
    "    train(train_dataloader, model, loss_fn, optimiser)\n",
    "    test(test_dataloader, model, loss_fn)\n",
    "print(\"Done!\")"
   ]
  },
  {
   "cell_type": "markdown",
   "id": "fc9eace2-cbd5-4446-a801-12a96f494e7c",
   "metadata": {},
   "source": [
    "### **(Question 9)** Preprocessing\n",
    "Now that you have done all the previous steps you should have a model that ranges from ok to pretty decent. However, one thing that may be holding you back is the lack of preprocessing. So what is preprocessing and how can we use it?\n",
    "\n",
    "Preprocessing is the idea of modifying your data before you use it in a network. An example you have already done is back when you encoded male and female as 0 and 1. Another example can also be filling in data points that you can't find with a mean/median. With images this approach is different, rather we want to normalise the data, do rotations, change pixels and more.\n",
    "\n",
    "The goal with preprocessing in general is to make our dataset more generalisable so that it not only can have an easier time training, but be able to be ran on new data and get a more accurate result. Below is an example of how we can change the preprocessing steps in our code. This creates a pipeline that starts by rotating before turning our input to a tensor.\n",
    "```python\n",
    "preprocessing = transforms.Compose([\n",
    "    transforms.RandomRotation((0, 360)),\n",
    "    transforms.ToTensor(),\n",
    "])\n",
    "```\n",
    "\n",
    "**Modify the preprocessing step to be more advanced**. This step can be found in the place you downloaded the dataset. Be sure to experiment with different things not just rotations."
   ]
  },
  {
   "cell_type": "markdown",
   "id": "3a81cdef-808b-43bd-90ba-632383ae5a8a",
   "metadata": {},
   "source": [
    "### **(Question 10)** Improve your Model\n",
    "Congratulations you have trained a neural network. Most likely the results from this will be less than satisfactory, with it being possibly lower than 50%. Now this is only the start of your journey, every single variable whether your *loss function*, *optimiser (and its learning rate)*, *extracted features*, *model layers*, and more can be changed as to create a better model. This process if called **hyperparameter tuning** and is a large part of machine learning. If you ever want to get better at ML you must be willing to spend the time the improve your model. Therefore the last task is:\n",
    "\n",
    "**Improve your model to have a better accuracy**. Tune respective parameters as to produce the best result possible. This will require some research."
   ]
  },
  {
   "cell_type": "code",
   "execution_count": 20,
   "id": "c07b89b3-bbdb-4c17-a546-94aa04aa6bb0",
   "metadata": {},
   "outputs": [],
   "source": [
    "# If you want to pretify your loss and accuracy graphs here:\n",
    "def plot_loss_acc(loss: List[int], acc: List[int]):\n",
    "    \"\"\"Helper to plot loss and accuracy if you store them in a list\"\"\"\n",
    "    fig, (ax0, ax1) = plt.subplots(1,2,figsize=(16,5))\n",
    "    ax0.plot(acc, 's-')\n",
    "    ax0.set_title(f'Final test accuracy {acc[-1]:.2f}%')\n",
    "    ax0.set_ylabel('Accuracy%')\n",
    "    ax0.set_xlabel('Epochs')\n",
    "    ax1.plot(loss, 's-')\n",
    "    ax1.set_title(f'Final test loss {loss[-1]:.2f}')\n",
    "    ax1.set_ylabel('Loss')\n",
    "    ax1.set_xlabel('Epochs')"
   ]
  }
 ],
 "metadata": {
  "kernelspec": {
   "display_name": "Python 3 (ipykernel)",
   "language": "python",
   "name": "python3"
  },
  "language_info": {
   "codemirror_mode": {
    "name": "ipython",
    "version": 3
   },
   "file_extension": ".py",
   "mimetype": "text/x-python",
   "name": "python",
   "nbconvert_exporter": "python",
   "pygments_lexer": "ipython3",
   "version": "3.12.5"
  }
 },
 "nbformat": 4,
 "nbformat_minor": 5
}
